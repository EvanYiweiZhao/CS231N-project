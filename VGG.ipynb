{
 "cells": [
  {
   "cell_type": "code",
   "execution_count": 1,
   "metadata": {
    "collapsed": false
   },
   "outputs": [
    {
     "name": "stdout",
     "output_type": "stream",
     "text": [
      "Tensor(\"vgg_19/fc7/Relu:0\", shape=(1, 1, 1, 4096), dtype=float32)\n"
     ]
    },
    {
     "ename": "NameError",
     "evalue": "name 'np_image' is not defined",
     "output_type": "error",
     "traceback": [
      "\u001b[0;31m---------------------------------------------------------------------------\u001b[0m",
      "\u001b[0;31mNameError\u001b[0m                                 Traceback (most recent call last)",
      "\u001b[0;32m<ipython-input-1-06a48b26be79>\u001b[0m in \u001b[0;36m<module>\u001b[0;34m()\u001b[0m\n\u001b[1;32m     73\u001b[0m     \u001b[0;31m# Show the downloaded image\u001b[0m\u001b[0;34m\u001b[0m\u001b[0;34m\u001b[0m\u001b[0m\n\u001b[1;32m     74\u001b[0m     \u001b[0mplt\u001b[0m\u001b[0;34m.\u001b[0m\u001b[0mfigure\u001b[0m\u001b[0;34m(\u001b[0m\u001b[0;34m)\u001b[0m\u001b[0;34m\u001b[0m\u001b[0m\n\u001b[0;32m---> 75\u001b[0;31m     \u001b[0mplt\u001b[0m\u001b[0;34m.\u001b[0m\u001b[0mimshow\u001b[0m\u001b[0;34m(\u001b[0m\u001b[0mnp_image\u001b[0m\u001b[0;34m.\u001b[0m\u001b[0mastype\u001b[0m\u001b[0;34m(\u001b[0m\u001b[0mnp\u001b[0m\u001b[0;34m.\u001b[0m\u001b[0muint8\u001b[0m\u001b[0;34m)\u001b[0m\u001b[0;34m)\u001b[0m\u001b[0;34m\u001b[0m\u001b[0m\n\u001b[0m\u001b[1;32m     76\u001b[0m     \u001b[0mplt\u001b[0m\u001b[0;34m.\u001b[0m\u001b[0msuptitle\u001b[0m\u001b[0;34m(\u001b[0m\u001b[0;34m\"Downloaded image\"\u001b[0m\u001b[0;34m,\u001b[0m \u001b[0mfontsize\u001b[0m\u001b[0;34m=\u001b[0m\u001b[0;36m14\u001b[0m\u001b[0;34m,\u001b[0m \u001b[0mfontweight\u001b[0m\u001b[0;34m=\u001b[0m\u001b[0;34m'bold'\u001b[0m\u001b[0;34m)\u001b[0m\u001b[0;34m\u001b[0m\u001b[0m\n\u001b[1;32m     77\u001b[0m     \u001b[0mplt\u001b[0m\u001b[0;34m.\u001b[0m\u001b[0maxis\u001b[0m\u001b[0;34m(\u001b[0m\u001b[0;34m'off'\u001b[0m\u001b[0;34m)\u001b[0m\u001b[0;34m\u001b[0m\u001b[0m\n",
      "\u001b[0;31mNameError\u001b[0m: name 'np_image' is not defined"
     ]
    },
    {
     "data": {
      "text/plain": [
       "<matplotlib.figure.Figure at 0x11418cbd0>"
      ]
     },
     "metadata": {},
     "output_type": "display_data"
    }
   ],
   "source": [
    "%matplotlib inline\n",
    "\n",
    "from matplotlib import pyplot as plt\n",
    "\n",
    "import numpy as np\n",
    "import os\n",
    "import tensorflow as tf\n",
    "import urllib2\n",
    "\n",
    "import vgg\n",
    "import vgg_preprocessing\n",
    "\n",
    "checkpoints_dir = './vgg_checkpoints'\n",
    "slim = tf.contrib.slim\n",
    "image_size = vgg.vgg_19.default_image_size\n",
    "\n",
    "\n",
    "with tf.Graph().as_default():\n",
    "    \n",
    "    url = (\"https://upload.wikimedia.org/wikipedia/commons/d/d9/\"\n",
    "           \"First_Student_IC_school_bus_202076.jpg\")\n",
    "    \n",
    "    # Open specified url and load image as a string\n",
    "    image_string = urllib2.urlopen(url).read()\n",
    "    \n",
    "    # Decode string into matrix with intensity values\n",
    "    image = tf.image.decode_jpeg(image_string, channels=3)\n",
    "    \n",
    "    # Resize the input image, preserving the aspect ratio\n",
    "    # and make a central crop of the resulted image.\n",
    "    # The crop will be of the size of the default image size of\n",
    "    # the network.\n",
    "    processed_image = vgg_preprocessing.preprocess_image(image,\n",
    "                                                         image_size,\n",
    "                                                         image_size,\n",
    "                                                         is_training=False)\n",
    "    \n",
    "    # Networks accept images in batches.\n",
    "    # The first dimension usually represents the batch size.\n",
    "    # In our case the batch size is one.\n",
    "    processed_images  = tf.expand_dims(processed_image, 0)\n",
    "    \n",
    "    # Create the model, use the default arg scope to configure\n",
    "    # the batch norm parameters. arg_scope is a very conveniet\n",
    "    # feature of slim library -- you can define default\n",
    "    # parameters for layers -- like stride, padding etc.\n",
    "    with slim.arg_scope(vgg.vgg_arg_scope()):\n",
    "        fc7, logits, _ = vgg.vgg_19(processed_images,\n",
    "                               num_classes=1000,\n",
    "                               is_training=False)\n",
    "        print fc7\n",
    "    \n",
    "    # Create a function that reads the network weights\n",
    "    # from the checkpoint file that you downloaded.\n",
    "    # We will run it in session later.\n",
    "    init_fn = slim.assign_from_checkpoint_fn(\n",
    "        os.path.join(checkpoints_dir, 'vgg_19.ckpt'),\n",
    "        slim.get_model_variables())\n",
    "    \n",
    "\n",
    "    \n",
    "    with tf.Session() as sess:\n",
    "        \n",
    "        # Load weights\n",
    "        init_fn(sess)\n",
    "            \n",
    "        # We want to get predictions, image as numpy matrix\n",
    "        # and resized and cropped piece that is actually\n",
    "        # being fed to the network.\n",
    "        fc7_img = sess.run([fc7])\n",
    "        \n",
    "    \n",
    "    # Show the downloaded image\n",
    "    plt.figure()\n",
    "    plt.imshow(np_image.astype(np.uint8))\n",
    "    plt.suptitle(\"Downloaded image\", fontsize=14, fontweight='bold')\n",
    "    plt.axis('off')\n",
    "    plt.show()\n",
    "    \n",
    "    # Show the image that is actually being fed to the network\n",
    "    # The image was resized while preserving aspect ratio and then\n",
    "    # cropped. After that, the mean pixel value was subtracted from\n",
    "    # each pixel of that crop. We normalize the image to be between [-1, 1]\n",
    "    # to show the image.\n",
    "    plt.imshow( network_input / (network_input.max() - network_input.min()) )\n",
    "    plt.suptitle(\"Resized, Cropped and Mean-Centered input to the network\",\n",
    "                 fontsize=14, fontweight='bold')\n",
    "    plt.axis('off')\n",
    "    plt.show()\n",
    "\n",
    "\n"
   ]
  },
  {
   "cell_type": "code",
   "execution_count": null,
   "metadata": {
    "collapsed": true
   },
   "outputs": [],
   "source": []
  }
 ],
 "metadata": {
  "anaconda-cloud": {},
  "kernelspec": {
   "display_name": "Python 2",
   "language": "python",
   "name": "python2"
  },
  "language_info": {
   "codemirror_mode": {
    "name": "ipython",
    "version": 2
   },
   "file_extension": ".py",
   "mimetype": "text/x-python",
   "name": "python",
   "nbconvert_exporter": "python",
   "pygments_lexer": "ipython2",
   "version": "2.7.12"
  }
 },
 "nbformat": 4,
 "nbformat_minor": 1
}
